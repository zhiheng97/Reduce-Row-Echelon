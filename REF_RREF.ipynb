{
 "cells": [
  {
   "cell_type": "code",
   "execution_count": 1,
   "metadata": {},
   "outputs": [],
   "source": [
    "import numpy as np"
   ]
  },
  {
   "cell_type": "markdown",
   "metadata": {},
   "source": [
    "# Problem 1"
   ]
  },
  {
   "cell_type": "markdown",
   "metadata": {},
   "source": [
    "Solving for row echelon form (GF2)"
   ]
  },
  {
   "cell_type": "code",
   "execution_count": 2,
   "metadata": {},
   "outputs": [],
   "source": [
    "rowlist = np.array([[1,1,0,1],\n",
    "                    [1,0,1,0],\n",
    "                    [0,1,1,1],\n",
    "                    [0,1,1,0]])"
   ]
  },
  {
   "cell_type": "code",
   "execution_count": 85,
   "metadata": {},
   "outputs": [],
   "source": [
    "def ech_rowGF2(rowlist):\n",
    "    col_label_list = np.array([a for a in range(len(rowlist[0]))])\n",
    "    rows_left = set(range(len(rowlist)))\n",
    "    new_rowlist = []\n",
    "    for c in col_label_list:\n",
    "        #among rows left, list of row-labels whose rows have a nonzero in position c\n",
    "        rows_with_nonzero = [r for r in rows_left if rowlist[r][c] != 0]\n",
    "        if rows_with_nonzero != []:\n",
    "            pivot = rows_with_nonzero[0]\n",
    "            rows_left.remove(pivot)\n",
    "            new_rowlist.append(rowlist[pivot] % 2)\n",
    "            for r in rows_with_nonzero[1:]:\n",
    "                multiplier = rowlist[r][c] / rowlist[pivot][c]\n",
    "                rowlist[r] = rowlist[r] - multiplier * rowlist[pivot]\n",
    "    new_rowlist = np.array(new_rowlist)\n",
    "    return new_rowlist"
   ]
  },
  {
   "cell_type": "code",
   "execution_count": 4,
   "metadata": {},
   "outputs": [
    {
     "name": "stdout",
     "output_type": "stream",
     "text": [
      "[[1 1 0 1]\n",
      " [0 1 1 1]\n",
      " [0 0 0 0]\n",
      " [0 0 0 1]]\n"
     ]
    }
   ],
   "source": [
    "print(ech_rowGF2(rowlist))"
   ]
  },
  {
   "cell_type": "markdown",
   "metadata": {},
   "source": [
    "# Problem 2 "
   ]
  },
  {
   "cell_type": "markdown",
   "metadata": {},
   "source": [
    "Solving system of equations through Gauss-Jordan [RREF] elimination method"
   ]
  },
  {
   "cell_type": "code",
   "execution_count": 105,
   "metadata": {},
   "outputs": [],
   "source": [
    "def ech_row(rowlist):\n",
    "    col_label_list = np.array([a for a in range(len(rowlist[0]))])\n",
    "    rows_left = set(range(len(rowlist)))\n",
    "    new_rowlist = []\n",
    "    for c in col_label_list:\n",
    "        #among rows left, list of row-labels whose rows have a nonzero in position c\n",
    "        rows_with_nonzero = [r for r in rows_left if rowlist[r][c] != 0]\n",
    "        if rows_with_nonzero != []:\n",
    "            pivot = rows_with_nonzero[0]\n",
    "            rows_left.remove(pivot)\n",
    "            new_rowlist.append(rowlist[pivot])\n",
    "            for r in rows_with_nonzero[1:]:\n",
    "                multiplier = rowlist[r][c] / rowlist[pivot][c]\n",
    "                rowlist[r] = rowlist[r] - multiplier * rowlist[pivot]\n",
    "    new_rowlist = np.array(new_rowlist)\n",
    "    return new_rowlist"
   ]
  },
  {
   "cell_type": "code",
   "execution_count": 405,
   "metadata": {},
   "outputs": [],
   "source": [
    "def rref(rowlist):\n",
    "    col_label_list = np.array([a for a in range(len(rowlist[0]))])\n",
    "    rows_left = set(range(len(rowlist)))\n",
    "    new_rowlist = []\n",
    "    for i in col_label_list:\n",
    "        rows_with_nonzero = [r for r in rows_left if rowlist[r][i] != 0]\n",
    "        if rows_with_nonzero != []:\n",
    "            pivot = rows_with_nonzero[0]\n",
    "            rows_left.remove(pivot)\n",
    "            for r in rows_with_nonzero:\n",
    "                    if rowlist[r][pivot] > 1 or rowlist[r][pivot] < 0:\n",
    "                        multiplier = rowlist[r][pivot] / 1\n",
    "                        rowlist[r] = rowlist[r] / multiplier\n",
    "                    elif rowlist[r][pivot] == 0:\n",
    "                        if rowlist[r][pivot + 1] > 1 or rowlist[r][pivot + 1] < 0:\n",
    "                            multiplier = rowlist[r][pivot + 1] / 1\n",
    "                            rowlist[r] = rowlist[r] / multiplier\n",
    "                    new_rowlist.append(rowlist[r])\n",
    "                    \n",
    "    new_rowlist = np.array(new_rowlist)\n",
    "    \n",
    "    col_list = [a for a in range(len(rowlist[0]) - 1)]\n",
    "    rows = [a for a in range(len(rowlist))]\n",
    "    rref = []\n",
    "    for i in col_list:\n",
    "        nonzero_rows = [c for c in rows if new_rowlist[c][i] != 0]\n",
    "        if nonzero_rows != []:\n",
    "            row = nonzero_rows[len(nonzero_rows) - 1]\n",
    "            pivot = new_rowlist[row][i]\n",
    "            if len(nonzero_rows) > 1:\n",
    "                for b in nonzero_rows:\n",
    "                    if row != b:\n",
    "                        multiplier = pivot * new_rowlist[b][i]\n",
    "                        new_rowlist[b] = new_rowlist[b] - (multiplier * new_rowlist[row])\n",
    "    return new_rowlist"
   ]
  },
  {
   "cell_type": "markdown",
   "metadata": {},
   "source": [
    "## a)"
   ]
  },
  {
   "cell_type": "code",
   "execution_count": 36,
   "metadata": {},
   "outputs": [],
   "source": [
    "array = np.array([[4,2,3,4,5],\n",
    "                  [2,0,0,3,2],\n",
    "                  [3,2,3,4,5],\n",
    "                  [2,0,0,6,7]])\n",
    "b = np.array([[2], [3], [4], [5]])\n",
    "rowlist = np.hstack((array, b))\n",
    "rowlist = rowlist.astype(np.float)"
   ]
  },
  {
   "cell_type": "code",
   "execution_count": 406,
   "metadata": {
    "scrolled": true
   },
   "outputs": [
    {
     "name": "stdout",
     "output_type": "stream",
     "text": [
      "[[ 4.   2.   3.   4.   5.   2. ]\n",
      " [ 0.  -1.  -1.5  1.  -0.5  2. ]\n",
      " [ 0.   0.   0.   1.5  1.   3.5]\n",
      " [ 0.   0.   0.   0.   3.  -5. ]]\n",
      "[[ 1.          0.          0.          0.          0.         -2.        ]\n",
      " [ 0.          1.          1.5         0.          0.          2.27777778]\n",
      " [ 0.          0.          0.          1.          0.          3.44444444]\n",
      " [ 0.          0.          0.          0.          1.         -1.66666667]]\n"
     ]
    }
   ],
   "source": [
    "ech = ech_row(rowlist)\n",
    "print(ech)\n",
    "print(rref(ech))"
   ]
  },
  {
   "cell_type": "markdown",
   "metadata": {},
   "source": [
    "After transforming the row echelon form of the augmented matrix, the following is the solution for the system: <br>\n",
    "X1 = -2 <br>\n",
    "X2 + 1.5X3 = 2.27..<br>\n",
    "X4 = 3.44.. <br>\n",
    "X5 = -1.66.. <br>"
   ]
  },
  {
   "cell_type": "markdown",
   "metadata": {},
   "source": [
    "## b)"
   ]
  },
  {
   "cell_type": "code",
   "execution_count": 409,
   "metadata": {
    "scrolled": true
   },
   "outputs": [
    {
     "name": "stdout",
     "output_type": "stream",
     "text": [
      "[[ 4.   2.   3.   4.   5.   2. ]\n",
      " [ 0.  -1.  -1.5  1.  -0.5  2. ]\n",
      " [ 0.   0.   0.   1.5  1.   3.5]\n",
      " [ 0.   0.   0.   0.   3.  -5. ]]\n"
     ]
    }
   ],
   "source": [
    "array = np.array([[4,2,3,4,5],\n",
    "                  [2,0,0,3,2],\n",
    "                  [3,2,3,4,5],\n",
    "                  [2,0,0,6,7]])\n",
    "b = np.array([[2], [3], [4], [5]])\n",
    "rowlist = np.hstack((array, b))\n",
    "rowlist = rowlist.astype(np.float)\n",
    "print(ech_row(rowlist))"
   ]
  },
  {
   "cell_type": "markdown",
   "metadata": {},
   "source": [
    "Above is the row reduced form of the system of equations, able to work with floats"
   ]
  }
 ],
 "metadata": {
  "kernelspec": {
   "display_name": "Python 3",
   "language": "python",
   "name": "python3"
  },
  "language_info": {
   "codemirror_mode": {
    "name": "ipython",
    "version": 3
   },
   "file_extension": ".py",
   "mimetype": "text/x-python",
   "name": "python",
   "nbconvert_exporter": "python",
   "pygments_lexer": "ipython3",
   "version": "3.8.5"
  }
 },
 "nbformat": 4,
 "nbformat_minor": 4
}
